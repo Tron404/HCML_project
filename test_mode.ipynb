{
 "cells": [
  {
   "cell_type": "code",
   "execution_count": 11,
   "metadata": {},
   "outputs": [],
   "source": [
    "from auxiliary_functions import *\n",
    "from bert_model import *\n",
    "import pickle\n",
    "from transformers import BertTokenizer, BertConfig\n",
    "from transformers import DataCollatorWithPadding\n",
    "\n",
    "device = torch.device(\"cuda:0\")\n",
    "model_name = \"google-bert/bert-base-multilingual-cased\"\n",
    "tokenizer = BertTokenizer.from_pretrained(model_name, return_tensors=\"pt\", truncation=True, max_length=512, padding=\"max_length\")\n",
    "model = pickle.load(open(\"model.pickle\", \"rb\"))"
   ]
  },
  {
   "cell_type": "code",
   "execution_count": 32,
   "metadata": {},
   "outputs": [
    {
     "data": {
      "application/vnd.jupyter.widget-view+json": {
       "model_id": "3d1c5a21eae44982b96e174afca3c5dc",
       "version_major": 2,
       "version_minor": 0
      },
      "text/plain": [
       "Map:   0%|          | 0/9522 [00:00<?, ? examples/s]"
      ]
     },
     "metadata": {},
     "output_type": "display_data"
    },
    {
     "name": "stdout",
     "output_type": "stream",
     "text": [
      "{'train': (7617, 5), 'test': (1905, 5)}\n"
     ]
    }
   ],
   "source": [
    "df = pd.read_csv(\"data/funda_data_11_06_2024.csv\")\n",
    "df = df[[\"descrip\", \"price\"]]\n",
    "dataset = create_dataset(df, 10000, tokenizer, 3)\n",
    "dataset = dataset.remove_columns([\"__index_level_0__\"])\n",
    "data_collator = DataCollatorWithPadding(tokenizer=tokenizer)"
   ]
  },
  {
   "cell_type": "code",
   "execution_count": 33,
   "metadata": {},
   "outputs": [
    {
     "name": "stderr",
     "output_type": "stream",
     "text": [
      "100%|██████████| 1905/1905 [01:16<00:00, 24.89it/s]\n"
     ]
    }
   ],
   "source": [
    "from tqdm import tqdm\n",
    "\n",
    "def test_pred(x):\n",
    "    input_x = {key: torch.as_tensor([val], device=device) for key, val in x.items()}\n",
    "    outputs = model(**input_x)\n",
    "\n",
    "    return outputs[\"logits\"].detach().cpu()\n",
    "\n",
    "vals = []\n",
    "for d in tqdm(dataset[\"test\"]):\n",
    "    vals += test_pred(d)"
   ]
  },
  {
   "cell_type": "code",
   "execution_count": 39,
   "metadata": {},
   "outputs": [
    {
     "data": {
      "text/plain": [
       "tensor([-0.0961, -0.3007,  2.0938,  ...,  1.0427, -0.1708, -0.3301])"
      ]
     },
     "execution_count": 39,
     "metadata": {},
     "output_type": "execute_result"
    }
   ],
   "source": [
    "torch.as_tensor(vals)"
   ]
  },
  {
   "cell_type": "code",
   "execution_count": 44,
   "metadata": {},
   "outputs": [
    {
     "name": "stdout",
     "output_type": "stream",
     "text": [
      "RMSE= 0.6819419264793396\n",
      "MSE= 0.4650447964668274\n",
      "MAE= 0.45871007442474365\n"
     ]
    }
   ],
   "source": [
    "print(\"RMSE=\",rmse_loss(torch.as_tensor(vals), torch.as_tensor(dataset[\"test\"][\"price\"])).item())\n",
    "print(\"MSE=\",mse_loss(torch.as_tensor(vals), torch.as_tensor(dataset[\"test\"][\"price\"])).item())\n",
    "print(\"MAE=\",l1_loss(torch.as_tensor(vals), torch.as_tensor(dataset[\"test\"][\"price\"])).item())"
   ]
  }
 ],
 "metadata": {
  "kernelspec": {
   "display_name": "hmcl",
   "language": "python",
   "name": "python3"
  },
  "language_info": {
   "codemirror_mode": {
    "name": "ipython",
    "version": 3
   },
   "file_extension": ".py",
   "mimetype": "text/x-python",
   "name": "python",
   "nbconvert_exporter": "python",
   "pygments_lexer": "ipython3",
   "version": "3.11.5"
  }
 },
 "nbformat": 4,
 "nbformat_minor": 2
}
